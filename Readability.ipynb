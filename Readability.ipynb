{
 "cells": [
  {
   "cell_type": "code",
   "execution_count": 1,
   "metadata": {},
   "outputs": [],
   "source": [
    "import requests\n",
    "from readability import Document"
   ]
  },
  {
   "cell_type": "code",
   "execution_count": 2,
   "metadata": {},
   "outputs": [],
   "source": [
    "url = 'http://www.bbc.co.uk/zhongwen/simp/chinese_news/2012/12/121210_hongkong_politics.shtml'"
   ]
  },
  {
   "cell_type": "code",
   "execution_count": 5,
   "metadata": {},
   "outputs": [],
   "source": [
    "response = requests.get(url)"
   ]
  },
  {
   "cell_type": "code",
   "execution_count": 6,
   "metadata": {},
   "outputs": [],
   "source": [
    "doc = Document(response.text)"
   ]
  },
  {
   "cell_type": "code",
   "execution_count": 7,
   "metadata": {},
   "outputs": [
    {
     "data": {
      "text/plain": [
       "'港特首梁振英就住宅违建事件道歉 - BBC中文网 - 两岸三地'"
      ]
     },
     "execution_count": 7,
     "metadata": {},
     "output_type": "execute_result"
    }
   ],
   "source": [
    "doc.title()"
   ]
  },
  {
   "cell_type": "code",
   "execution_count": 10,
   "metadata": {},
   "outputs": [
    {
     "data": {
      "text/plain": [
       "'<html><body><div><div class=\"bodytext\">\\n                     <div class=\"module \">\\n                        <div class=\"image img-w304\"><img src=\"/staticarchive/c557afffbe7c78776860d047f5fac5a5602c8de3.jpg\" alt=\"香港行政长官梁振英（6/12/2012）\"/><p class=\"caption\">梁振英同时遭到泛民主派和亲北京阵营议员质问。</p>\\n                        </div>\\n                     </div>\\n                     <p class=\"ingress\">香港行政长官梁振英在各方压力下就其大宅的违章建筑（僭建）问题到立法会接受质询，并向香港民众道歉。</p>\\n                     <p>梁振英此前承认早在去年参选行政长官之前就已知悉其住宅的违建问题，引发诚信危机。</p>\\n                     <p>梁振英在星期二（12月10日）的答问大会开始之际在其演说中道歉，但强调他在违章建筑问题上没有隐瞒的意图和动机。</p>\\n                     <p>不过泛民主派议员们普遍指责梁振英\\x93撒谎\\x94，要求他马上辞职下台。</p>\\n                     <p>一些亲北京阵营议员欢迎梁振英道歉，且认为应能获得香港民众接受，但这些议员也质问梁振英有否向执法部门施压。</p>\\n                     <p>梁振英强调承诺将在两周内解决其住宅的违建问题。</p>\\n                     <h2>\\x93郑重道歉\\x94</h2>\\n                     <p>香港媒体于6月份曝光梁振英大宅的首批违建部分后，于3月的选举中被击败的民主党参选人何俊仁向法院提出选举呈请，至11月中旬被终审法院驳回。</p>\\n                     <div class=\"module \">\\n                        <div class=\"image img-w304\"><img src=\"/staticarchive/16e9ef69748f674d2a89a29794526aea00880415.jpg\" alt=\"工人于香港特首梁振英位于维多利亚山顶的宅第拆除违章建筑（25/6/2012）\"/><p class=\"caption\">梁振英的山顶大宅于6月份被揭发存有违章建筑。</p>\\n                        </div>\\n                     </div>\\n                     <p>梁振英说，其位于太平山山顶的住宅内的违建部分大都不是由他所建，此前没有马上公开交待和处理，是因为律师意见认为司法程序仍在进行，他不应评论。</p>\\n                     <p>梁振英在接受质询前的发言中说：\\x93回顾事件，我虽然从无任何存心隐瞒的意图，但必须承认自己有处理疏忽及交代不清之处，为此我再次向市民郑重道歉。\\x94</p>\\n                     <p>梁振英在选举中还击败了曾是自由党党员的前政务司司长唐英年。</p>\\n                     <p>在回答自由党议员的提问时，梁振英称，他从未说过其房产不存在违建问题。</p>\\n                     <p>现为间选议员的何俊仁说，梁振英至今仍不坦诚以对，让他\\x93震惊\\x94；亲北京政团工联会直选议员黄国健也批评梁振英抱着\\x93不服输\\x94的态度接受质询。</p>\\n                     <p>历时1.5小时的答问大会在进入中段之际，泛民主派人民力量的直选议员黄毓民、陈伟业和社会民主连线的梁国雄先后因播放录音、叫嚣，和向梁振英扔掷文件而被议长驱逐。</p>\\n                     <p>民主党此前计划在星期三（11日）对梁振英提出不信任动议。</p>\\n                  </div>\\n               </div></body></html>'"
      ]
     },
     "execution_count": 10,
     "metadata": {},
     "output_type": "execute_result"
    }
   ],
   "source": [
    "doc.summary()"
   ]
  },
  {
   "cell_type": "code",
   "execution_count": 15,
   "metadata": {},
   "outputs": [],
   "source": [
    "doc.positive_keywords"
   ]
  },
  {
   "cell_type": "code",
   "execution_count": 16,
   "metadata": {},
   "outputs": [],
   "source": [
    "doc.negative_keywords"
   ]
  },
  {
   "cell_type": "code",
   "execution_count": 18,
   "metadata": {},
   "outputs": [
    {
     "name": "stdout",
     "output_type": "stream",
     "text": [
      "Help on method get_article in module readability.readability:\n",
      "\n",
      "get_article(candidates, best_candidate, html_partial=False) method of readability.readability.Document instance\n",
      "\n"
     ]
    }
   ],
   "source": [
    "help(doc.get_article)"
   ]
  },
  {
   "cell_type": "code",
   "execution_count": 19,
   "metadata": {},
   "outputs": [
    {
     "data": {
      "text/plain": [
       "'<html><body><div><div class=\"bodytext\">\\n                     <div class=\"module \">\\n                        <div class=\"image img-w304\"><img src=\"/staticarchive/c557afffbe7c78776860d047f5fac5a5602c8de3.jpg\" alt=\"香港行政长官梁振英（6/12/2012）\"/><p class=\"caption\">梁振英同时遭到泛民主派和亲北京阵营议员质问。</p>\\n                        </div>\\n                     </div>\\n                     <p class=\"ingress\">香港行政长官梁振英在各方压力下就其大宅的违章建筑（僭建）问题到立法会接受质询，并向香港民众道歉。</p>\\n                     <p>梁振英此前承认早在去年参选行政长官之前就已知悉其住宅的违建问题，引发诚信危机。</p>\\n                     <p>梁振英在星期二（12月10日）的答问大会开始之际在其演说中道歉，但强调他在违章建筑问题上没有隐瞒的意图和动机。</p>\\n                     <p>不过泛民主派议员们普遍指责梁振英\\x93撒谎\\x94，要求他马上辞职下台。</p>\\n                     <p>一些亲北京阵营议员欢迎梁振英道歉，且认为应能获得香港民众接受，但这些议员也质问梁振英有否向执法部门施压。</p>\\n                     <p>梁振英强调承诺将在两周内解决其住宅的违建问题。</p>\\n                     <h2>\\x93郑重道歉\\x94</h2>\\n                     <p>香港媒体于6月份曝光梁振英大宅的首批违建部分后，于3月的选举中被击败的民主党参选人何俊仁向法院提出选举呈请，至11月中旬被终审法院驳回。</p>\\n                     <div class=\"module \">\\n                        <div class=\"image img-w304\"><img src=\"/staticarchive/16e9ef69748f674d2a89a29794526aea00880415.jpg\" alt=\"工人于香港特首梁振英位于维多利亚山顶的宅第拆除违章建筑（25/6/2012）\"/><p class=\"caption\">梁振英的山顶大宅于6月份被揭发存有违章建筑。</p>\\n                        </div>\\n                     </div>\\n                     <p>梁振英说，其位于太平山山顶的住宅内的违建部分大都不是由他所建，此前没有马上公开交待和处理，是因为律师意见认为司法程序仍在进行，他不应评论。</p>\\n                     <p>梁振英在接受质询前的发言中说：\\x93回顾事件，我虽然从无任何存心隐瞒的意图，但必须承认自己有处理疏忽及交代不清之处，为此我再次向市民郑重道歉。\\x94</p>\\n                     <p>梁振英在选举中还击败了曾是自由党党员的前政务司司长唐英年。</p>\\n                     <p>在回答自由党议员的提问时，梁振英称，他从未说过其房产不存在违建问题。</p>\\n                     <p>现为间选议员的何俊仁说，梁振英至今仍不坦诚以对，让他\\x93震惊\\x94；亲北京政团工联会直选议员黄国健也批评梁振英抱着\\x93不服输\\x94的态度接受质询。</p>\\n                     <p>历时1.5小时的答问大会在进入中段之际，泛民主派人民力量的直选议员黄毓民、陈伟业和社会民主连线的梁国雄先后因播放录音、叫嚣，和向梁振英扔掷文件而被议长驱逐。</p>\\n                     <p>民主党此前计划在星期三（11日）对梁振英提出不信任动议。</p>\\n                  </div>\\n               </div></body></html>'"
      ]
     },
     "execution_count": 19,
     "metadata": {},
     "output_type": "execute_result"
    }
   ],
   "source": [
    "doc.get_clean_html()"
   ]
  },
  {
   "cell_type": "code",
   "execution_count": 23,
   "metadata": {},
   "outputs": [
    {
     "data": {
      "text/plain": [
       "<readability.readability.Document at 0x10c30b518>"
      ]
     },
     "execution_count": 23,
     "metadata": {},
     "output_type": "execute_result"
    }
   ],
   "source": [
    "doc#.tags()"
   ]
  },
  {
   "cell_type": "code",
   "execution_count": null,
   "metadata": {},
   "outputs": [],
   "source": []
  }
 ],
 "metadata": {
  "kernelspec": {
   "display_name": "Python 3",
   "language": "python",
   "name": "python3"
  },
  "language_info": {
   "codemirror_mode": {
    "name": "ipython",
    "version": 3
   },
   "file_extension": ".py",
   "mimetype": "text/x-python",
   "name": "python",
   "nbconvert_exporter": "python",
   "pygments_lexer": "ipython3",
   "version": "3.6.5"
  }
 },
 "nbformat": 4,
 "nbformat_minor": 2
}
